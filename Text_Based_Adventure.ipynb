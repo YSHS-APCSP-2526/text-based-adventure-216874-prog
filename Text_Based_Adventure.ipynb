{
  "nbformat": 4,
  "nbformat_minor": 0,
  "metadata": {
    "colab": {
      "provenance": [],
      "include_colab_link": true
    },
    "kernelspec": {
      "name": "python3",
      "display_name": "Python 3"
    },
    "language_info": {
      "name": "python"
    }
  },
  "cells": [
    {
      "cell_type": "markdown",
      "metadata": {
        "id": "view-in-github",
        "colab_type": "text"
      },
      "source": [
        "<a href=\"https://colab.research.google.com/github/YSHS-APCSP-2526/text-based-adventure-216874-prog/blob/main/Text_Based_Adventure.ipynb\" target=\"_parent\"><img src=\"https://colab.research.google.com/assets/colab-badge.svg\" alt=\"Open In Colab\"/></a>"
      ]
    },
    {
      "cell_type": "markdown",
      "source": [
        "#Requirements for text based adventure\n",
        "1. You must have at least 2 different \"paths\" that are at least 4 decisions in length\n",
        "2. Include an element of randomness (from the random library)\n",
        "3. Include a list that is core to the text based adventure\n",
        "4. Include a function that is called within your program that includes a while loop, and a parameter that influences a conditional statement in your function.\n",
        "5. Commented Code.\n",
        "6. A [digital flowchart](https://docs.google.com/document/d/1p2k3wL6gzjYWBuWxwEQptmbbOZZNsQrthlC12SNtYgY/edit?usp=sharing) that follows accepted symbols for representing code. You can use google slides or [draw.io](https://www.drawio.com/) for the flowchart."
      ],
      "metadata": {
        "id": "zpSmche7G_jy"
      }
    },
    {
      "cell_type": "code",
      "source": [
        "def intro():\n",
        "  response = input (\"You walk up to a small bridge in the woods which resides above small river.\\nAfter crossing this bridge, you start to smell something sweet lingering in the air.\\n\\nDo you decide to 'follow the scent' and find its source\\n\\nor\\n\\ngo fishing and 'continue the walk' to the pond: \")\n",
        "  return response"
      ],
      "metadata": {
        "id": "LQuG-KfJlMj3"
      },
      "execution_count": 10,
      "outputs": []
    },
    {
      "cell_type": "code",
      "source": [
        "def fishing():\n",
        "  response1 = input (\"\\n\\nWith having to make a quick decision, do you let go? Y or N: \")\n",
        "  return response1"
      ],
      "metadata": {
        "id": "MLaAYWRCMgqM"
      },
      "execution_count": 48,
      "outputs": []
    },
    {
      "cell_type": "code",
      "source": [
        "def catch(response1):\n",
        "  if response1 == \"Y\":\n",
        "    print(\"\\nYou let go of the fishing rod. You have survived.\")\n",
        "  elif response1 == \"N\":\n",
        "    print(\"\\nYou hold on to the only chance you have of catching a fish.\\nYour strength cannot compete with the tug of the fish.\\nYou are dragged into the deep, murky water, where the bottom is deep down within the Earth.\\nYou have died.\")"
      ],
      "metadata": {
        "id": "8ZrLJV-ENHUf"
      },
      "execution_count": 68,
      "outputs": []
    },
    {
      "cell_type": "code",
      "source": [
        "import time\n",
        "\n",
        "def main():\n",
        "  response = intro()\n",
        "  if response == \"follow the scent\":\n",
        "    print(\"\\nYou realize you only live once and curiosity has never killed the cat.\\nYou aimlessy walk for about 10 minutes through the strange forest.\\nAfter looking down in self deafeat, thinking there is nothing out here, you spot a cabin.\")\n",
        "  elif response == \"continue the walk\":\n",
        "    print(\"\\nYou decide to feed your fishing obsession, hoping to catch a fish for the first time.\")\n",
        "    time.sleep(1)\n",
        "    print(\"\\n\\nOnce you reach the pond to fish you take out your fishing rod, thinking you are going to catch something today.\\nTossing the hook into the water, you immediately feel a tug...it is actually quite strong.\\nYour feet begin to slide down the muddy grass, not begin able to stop yourself.\")\n",
        "    time.sleep(1)\n",
        "    response1 = fishing()\n",
        "    catch(response1)"
      ],
      "metadata": {
        "id": "ieOT3QAOF94Z"
      },
      "execution_count": 67,
      "outputs": []
    },
    {
      "cell_type": "code",
      "source": [
        "main()"
      ],
      "metadata": {
        "colab": {
          "base_uri": "https://localhost:8080/"
        },
        "id": "2X2GkonI6V2G",
        "outputId": "00d70579-c007-4f62-f6d9-5f93f6854240"
      },
      "execution_count": 69,
      "outputs": [
        {
          "output_type": "stream",
          "name": "stdout",
          "text": [
            "You walk up to a small bridge in the woods which resides above small river.\n",
            "After crossing this bridge, you start to smell something sweet lingering in the air.\n",
            "\n",
            "Do you decide to 'follow the scent' and find its source\n",
            "\n",
            "or\n",
            "\n",
            "go fishing and 'continue the walk' to the pond: continue the walk\n",
            "\n",
            "You decide to feed your fishing obsession, hoping to catch a fish for the first time.\n",
            "\n",
            "\n",
            "Once you reach the pond to fish you take out your fishing rod, thinking you are going to catch something today.\n",
            "Tossing the hook into the water, you immediately feel a tug...it is actually quite strong.\n",
            "Your feet begin to slide down the muddy grass, not begin able to stop yourself.\n",
            "\n",
            "\n",
            "With having to make a quick decision, do you let go? Y or N: N\n",
            "\n",
            "You hold on to the only chance you have of catching a fish.\n",
            "Your strength cannot compete with the tug of the fish.\n",
            "You are dragged into the deep, murky water, where the bottom is deep down within the Earth.\n",
            "You have died.\n"
          ]
        }
      ]
    }
  ]
}